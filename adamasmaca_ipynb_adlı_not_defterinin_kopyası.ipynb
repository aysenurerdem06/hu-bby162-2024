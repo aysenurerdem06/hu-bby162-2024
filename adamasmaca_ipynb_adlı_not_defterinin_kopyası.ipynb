{
  "nbformat": 4,
  "nbformat_minor": 0,
  "metadata": {
    "colab": {
      "provenance": [],
      "authorship_tag": "ABX9TyPkWm7zQDnjlSPz//ddIp29",
      "include_colab_link": true
    },
    "kernelspec": {
      "name": "python3",
      "display_name": "Python 3"
    },
    "language_info": {
      "name": "python"
    }
  },
  "cells": [
    {
      "cell_type": "markdown",
      "metadata": {
        "id": "view-in-github",
        "colab_type": "text"
      },
      "source": [
        "<a href=\"https://colab.research.google.com/github/aysenurerdem06/hu-bby162-2024/blob/main/adamasmaca_ipynb_adl%C4%B1_not_defterinin_kopyas%C4%B1.ipynb\" target=\"_parent\"><img src=\"https://colab.research.google.com/assets/colab-badge.svg\" alt=\"Open In Colab\"/></a>"
      ]
    },
    {
      "cell_type": "code",
      "execution_count": null,
      "metadata": {
        "colab": {
          "base_uri": "https://localhost:8080/"
        },
        "id": "nVsYar9GhFgc",
        "outputId": "0d96136d-9fa0-46d2-f622-42a371f74943"
      },
      "outputs": [
        {
          "output_type": "stream",
          "name": "stdout",
          "text": [
            "Adam Asmaca oyununa hoş geldiniz!\n"
          ]
        }
      ],
      "source": [
        "import random\n",
        "\n",
        "def kelime_sec(seviye):\n",
        "    kelimeler = {\n",
        "        'kolay': ['elma', 'araba', 'ev', 'kitap', 'kedi'],\n",
        "        'orta': ['bilgisayar', 'defter', 'telefon', 'çikolata', 'televizyon'],\n",
        "        'zor': ['programlama', 'akvaryum', 'psikoloji', 'matematik', 'kütüphane']\n",
        "    }\n",
        "    return random.choice(kelimeler[seviye])\n",
        "\n",
        "def oyun():\n",
        "    print(\"Adam Asmaca oyununa hoş geldiniz!\")\n",
        "    while True:\n",
        "        seviye = input(\"Bir seviye seçin (kolay, orta, zor): \").lower()\n",
        "        if seviye in ['kolay', 'orta', 'zor']:\n",
        "            break\n",
        "        else:\n",
        "            print(\"Geçersiz seviye seçimi. Lütfen tekrar deneyin.\")\n",
        "\n",
        "    kelime = kelime_sec(seviye)\n",
        "    tahmin_edilen_harfler = set()\n",
        "    can = 3\n",
        "\n",
        "    while can > 0:\n",
        "        kelime_goruntusu = ''.join([harf if harf in tahmin_edilen_harfler else '_' for harf in kelime])\n",
        "        print(f\"Kelime: {kelime_goruntusu}\")\n",
        "\n",
        "        if '_' not in kelime_goruntusu:\n",
        "            print(\"Tebrikler! Kelimeyi doğru tahmin ettiniz.\")\n",
        "            break\n",
        "\n",
        "        tahmin = input(\"Bir harf tahmin edin: \").lower()\n",
        "\n",
        "        if tahmin in tahmin_edilen_harfler:\n",
        "            print(\"Bu harfi zaten tahmin ettiniz. Başka bir harf deneyin.\")\n",
        "        elif tahmin in kelime:\n",
        "            print(\"Doğru tahmin!\")\n",
        "            tahmin_edilen_harfler.add(tahmin)\n",
        "        else:\n",
        "            can -= 1\n",
        "            print(f\"Yanlış tahmin! Kalan can: {can}\")\n",
        "            tahmin_edilen_harfler.add(tahmin)\n",
        "\n",
        "    if can == 0:\n",
        "        print(f\"Üzgünüm, kaybettiniz. Kelime '{kelime}' idi.\")\n",
        "\n",
        "    while True:\n",
        "        yeniden_oyna = input(\"Yeniden oynamak ister misiniz? (evet/hayır): \").lower()\n",
        "        if yeniden_oyna == 'evet':\n",
        "            oyun()\n",
        "            break\n",
        "        elif yeniden_oyna == 'hayır':\n",
        "            print(\"Oyun bitti. Hoşça kalın!\")\n",
        "            break\n",
        "        else:\n",
        "            print(\"Geçersiz seçim. Lütfen 'evet' ya da 'hayır' olarak cevaplayın.\")\n",
        "\n",
        "oyun()"
      ]
    }
  ]
}