{
  "nbformat": 4,
  "nbformat_minor": 0,
  "metadata": {
    "colab": {
      "provenance": [],
      "authorship_tag": "ABX9TyNXAm1g3v6DZewdum4vXi8z",
      "include_colab_link": true
    },
    "kernelspec": {
      "name": "python3",
      "display_name": "Python 3"
    },
    "language_info": {
      "name": "python"
    }
  },
  "cells": [
    {
      "cell_type": "markdown",
      "metadata": {
        "id": "view-in-github",
        "colab_type": "text"
      },
      "source": [
        "<a href=\"https://colab.research.google.com/github/aysenurerdem06/hu-bby162-2024/blob/main/Untitled4_ipynb_adl%C4%B1_not_defterinin_kopyas%C4%B1.ipynb\" target=\"_parent\"><img src=\"https://colab.research.google.com/assets/colab-badge.svg\" alt=\"Open In Colab\"/></a>"
      ]
    },
    {
      "cell_type": "code",
      "execution_count": null,
      "metadata": {
        "colab": {
          "base_uri": "https://localhost:8080/"
        },
        "id": "ZnXYOUhmsbXh",
        "outputId": "3c7506eb-24fa-469d-ab76-ba83ba933184"
      },
      "outputs": [
        {
          "output_type": "stream",
          "name": "stdout",
          "text": [
            "{'tuz': 'sodyum klorür', 'sirke': 'asetik asit', 'şeker': 'sakaroz', 'su': 'didihdrojen monooksit', 'zaç yağı': 'sülfirik asit', 'kezzap': 'nitrik asit', 'sirke asidi': 'asetik asit', 'sud kostik': 'sodyum hidroksit', 'kireç taşı': 'kalsiyum karbınat', 'sönmüş kireç': 'kalsiyum hidroksit'}\n",
            "{'tuz': 'sodyum klorür', 'sirke': 'asetik asit', 'şeker': 'sakaroz', 'su': 'didihdrojen monooksit', 'zaç yağı': 'sülfirik asit', 'kezzap': 'nitrik asit', 'sirke asidi': 'asetik asit', 'sud kostik': 'sodyum hidroksit', 'kireç taşı': 'kalsiyum karbınat', 'sönmüş kireç': 'kalsiyum hidroksit', 'potas kostik': 'potasyum hidroksit'}\n",
            "{'tuz': 'sodyum klorür', 'sirke': 'asetik asit', 'şeker': 'sakaroz', 'su': 'didihdrojen monooksit', 'zaç yağı': 'sülfirik asit', 'kezzap': 'nitrik asit', 'sirke asidi': 'asetik asit', 'sud kostik': 'sodyum hidroksit', 'kireç taşı': 'kalsiyum karbınat', 'sönmüş kireç': 'kalsiyum hidroksit'}\n",
            "{'tuz': 'sodyum klorür', 'sirke': 'asetik asit', 'şeker': 'sakaroz', 'su': 'didihdrojen monooksit', 'zaç yağı': 'sülfirik asit', 'kezzap': 'nitrik asit', 'sirke asidi': 'asetik asit', 'sud kostik': 'sodyum hidroksit', 'kireç taşı': 'kalsiyum karbınat', 'sönmüş kireç': 'kalsiyum hidroksit'}\n",
            "Güncellemek istediğiniz terimi giriniz: potas kostik\n",
            "Güncel anlamı giriniz: potasyum hidroksit\n",
            "Güncelleme tamamlandı\n",
            "{'tuz': 'sodyum klorür', 'sirke': 'asetik asit', 'şeker': 'sakaroz', 'su': 'didihdrojen monooksit', 'zaç yağı': 'sülfirik asit', 'kezzap': 'nitrik asit', 'sirke asidi': 'asetik asit', 'sud kostik': 'sodyum hidroksit', 'kireç taşı': 'kalsiyum karbınat', 'sönmüş kireç': 'kalsiyum hidroksit', 'potas kostik': 'potasyum hidroksit'}\n"
          ]
        }
      ],
      "source": [
        "yeniListe = {\"tuz\": \"sodyum klorür\", \"sirke\": \"asetik asit\", \"şeker\": \"sakaroz\", \"su\": \"didihdrojen monooksit\", \"zaç yağı\": \"sülfirik asit\", \"kezzap\": \"nitrik asit\", \"sirke asidi\": \"asetik asit\", \"sud kostik\": \"sodyum hidroksit\", \"kireç taşı\": \"kalsiyum karbınat\", \"sönmüş kireç\": \"kalsiyum hidroksit\"}\n",
        "print(yeniListe)\n",
        "yeniListe[\"potas kostik\"] = \"potasyum hidroksit\"\n",
        "print(yeniListe)\n",
        "del yeniListe [\"potas kostik\"]\n",
        "print(yeniListe)\n",
        "print(yeniListe)\n",
        "guncelterim= input(\"Güncellemek istediğiniz terimi giriniz: \")\n",
        "guncelanlam = input(\"Güncel anlamı giriniz: \")\n",
        "yeniListe[guncelterim] = guncelanlam\n",
        "print(\"Güncelleme tamamlandı\")\n",
        "print(yeniListe)"
      ]
    }
  ]
}