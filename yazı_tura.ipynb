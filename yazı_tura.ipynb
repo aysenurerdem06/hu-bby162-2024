{
  "nbformat": 4,
  "nbformat_minor": 0,
  "metadata": {
    "colab": {
      "provenance": [],
      "authorship_tag": "ABX9TyOt2TC2y3IItgNhHdw3d7Ue",
      "include_colab_link": true
    },
    "kernelspec": {
      "name": "python3",
      "display_name": "Python 3"
    },
    "language_info": {
      "name": "python"
    }
  },
  "cells": [
    {
      "cell_type": "markdown",
      "metadata": {
        "id": "view-in-github",
        "colab_type": "text"
      },
      "source": [
        "<a href=\"https://colab.research.google.com/github/aysenurerdem06/hu-bby162-2024/blob/main/yaz%C4%B1_tura.ipynb\" target=\"_parent\"><img src=\"https://colab.research.google.com/assets/colab-badge.svg\" alt=\"Open In Colab\"/></a>"
      ]
    },
    {
      "source": [
        "import random\n",
        "\n",
        "def yazı_tura():\n",
        "  \"\"\"\n",
        "  Returns a random choice between \"yazı\" and \"tura\" in Turkish.\n",
        "  \"\"\"\n",
        "  choices = [\"yazı\", \"tura\"]\n",
        "  return random.choice(choices)\n",
        "\n",
        "# Generate a random choice and print it in a loop\n",
        "for _ in range(100):\n",
        "  print(yazı_tura())"
      ],
      "cell_type": "code",
      "metadata": {
        "colab": {
          "base_uri": "https://localhost:8080/"
        },
        "id": "o4K858VfA4i6",
        "outputId": "c91d2c29-6c32-4875-9e91-31dfc50245e4"
      },
      "execution_count": 2,
      "outputs": [
        {
          "output_type": "stream",
          "name": "stdout",
          "text": [
            "yazı\n",
            "tura\n",
            "yazı\n",
            "tura\n",
            "yazı\n",
            "tura\n",
            "tura\n",
            "tura\n",
            "yazı\n",
            "yazı\n",
            "yazı\n",
            "tura\n",
            "yazı\n",
            "tura\n",
            "tura\n",
            "yazı\n",
            "tura\n",
            "tura\n",
            "yazı\n",
            "tura\n",
            "yazı\n",
            "yazı\n",
            "yazı\n",
            "yazı\n",
            "yazı\n",
            "yazı\n",
            "yazı\n",
            "yazı\n",
            "yazı\n",
            "tura\n",
            "yazı\n",
            "tura\n",
            "yazı\n",
            "yazı\n",
            "tura\n",
            "yazı\n",
            "tura\n",
            "yazı\n",
            "yazı\n",
            "tura\n",
            "yazı\n",
            "tura\n",
            "yazı\n",
            "tura\n",
            "yazı\n",
            "yazı\n",
            "tura\n",
            "tura\n",
            "yazı\n",
            "yazı\n",
            "yazı\n",
            "yazı\n",
            "tura\n",
            "tura\n",
            "tura\n",
            "tura\n",
            "tura\n",
            "yazı\n",
            "yazı\n",
            "tura\n",
            "tura\n",
            "yazı\n",
            "tura\n",
            "yazı\n",
            "yazı\n",
            "tura\n",
            "yazı\n",
            "yazı\n",
            "tura\n",
            "yazı\n",
            "yazı\n",
            "yazı\n",
            "tura\n",
            "tura\n",
            "tura\n",
            "yazı\n",
            "yazı\n",
            "tura\n",
            "tura\n",
            "tura\n",
            "yazı\n",
            "tura\n",
            "yazı\n",
            "yazı\n",
            "tura\n",
            "tura\n",
            "tura\n",
            "tura\n",
            "yazı\n",
            "tura\n",
            "tura\n",
            "yazı\n",
            "tura\n",
            "tura\n",
            "yazı\n",
            "tura\n",
            "yazı\n",
            "yazı\n",
            "tura\n",
            "yazı\n"
          ]
        }
      ]
    }
  ]
}