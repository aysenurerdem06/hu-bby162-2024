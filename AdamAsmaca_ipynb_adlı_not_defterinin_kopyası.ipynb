{
  "nbformat": 4,
  "nbformat_minor": 0,
  "metadata": {
    "colab": {
      "provenance": [],
      "authorship_tag": "ABX9TyMtiUBqAQ0QoswYeBVPK/Lu",
      "include_colab_link": true
    },
    "kernelspec": {
      "name": "python3",
      "display_name": "Python 3"
    },
    "language_info": {
      "name": "python"
    }
  },
  "cells": [
    {
      "cell_type": "markdown",
      "metadata": {
        "id": "view-in-github",
        "colab_type": "text"
      },
      "source": [
        "<a href=\"https://colab.research.google.com/github/aysenurerdem06/hu-bby162-2024/blob/main/AdamAsmaca_ipynb_adl%C4%B1_not_defterinin_kopyas%C4%B1.ipynb\" target=\"_parent\"><img src=\"https://colab.research.google.com/assets/colab-badge.svg\" alt=\"Open In Colab\"/></a>"
      ]
    },
    {
      "cell_type": "code",
      "execution_count": null,
      "metadata": {
        "id": "MORlSwoU1vfd"
      },
      "outputs": [],
      "source": [
        "import random\n",
        "\n",
        "\n",
        "def main():\n",
        "    kelimeler = [\"nesrin\", \"kukla\", \"kampus\", \"bisiklet\", \"yüzme\"]\n",
        "    kelime = random.choice(kelimeler)\n",
        "    zorluk = input(\"Oyuna hoşgeldiniz. Lütfen zorluk seviyesi giriniz: *Kolay *Orta *Zor\").lower()\n",
        "\n",
        "    while True:\n",
        "        if zorluk == \"kolay\":\n",
        "            print(\"7 Canınız var. Oyun başlıyor..\")\n",
        "            can = 7\n",
        "            break\n",
        "        elif zorluk == \"orta\":\n",
        "            print(\"5 Canınız var. Oyun başlıyor..\")\n",
        "            can = 5\n",
        "            break\n",
        "        elif zorluk == \"zor\":\n",
        "            print(\"3 Canınız var. Oyun başlıyor..\")\n",
        "            can = 3\n",
        "            break\n",
        "        else:\n",
        "            print(\"Hatalı giriş yaptınız, tekrar deneyiniz\")\n",
        "\n",
        "    adamAsmaca(kelime, can)\n",
        "\n",
        "\n",
        "def adamAsmaca(kelime, can):\n",
        "    tahmin_listesi = [\"_ \"] * len(kelime)\n",
        "\n",
        "    while can > 0:\n",
        "        harf = input(\"Tahmin için harf giriniz:\")\n",
        "\n",
        "        if harf in kelime:\n",
        "            index = findIndex(kelime, harf)\n",
        "            for i in index:\n",
        "                tahmin_listesi[i] = str(harf + \" \")\n",
        "            print(\"Tebrikler!\", len(index), \"tane harf açtınız.\")\n",
        "            print(*tahmin_listesi, )\n",
        "        else:\n",
        "            can = can - 1\n",
        "            print(\"Yanlış tahmin.\", can, \"hakkınız kaldı.\")\n",
        "\n",
        "        if \"_ \" not in tahmin_listesi:\n",
        "            print(\"Tebrikler oyunu kazandınız!!!\")\n",
        "            break\n",
        "\n",
        "        if can == 0:\n",
        "            print(\"Üzgünüm kaybettiniz\")\n",
        "\n",
        "    choose = input(\"Oyun bitti. Tekrar oynamak ister misiniz? ---> *Evet *Hayır\").lower()\n",
        "    if choose == \"evet\":\n",
        "        main()\n",
        "    elif choose == \"hayır\":\n",
        "        print(\"Oyun kapatılıyor...\")\n",
        "    else:\n",
        "        print(\"Hatalı seçim yaptınız. Oyun kapatılıyor...\")\n",
        "\n",
        "\n",
        "def findIndex(kelime, harf):\n",
        "    tmp_list = []\n",
        "    for i in range(len(kelime)):\n",
        "        if kelime[i] == harf:\n",
        "            tmp_list.append(i)\n",
        "    return tmp_list\n",
        "\n",
        "\n",
        "main()"
      ]
    }
  ]
}