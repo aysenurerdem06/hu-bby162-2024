{
  "nbformat": 4,
  "nbformat_minor": 0,
  "metadata": {
    "colab": {
      "provenance": [],
      "authorship_tag": "ABX9TyNc0wNDxWsC5yceX/KK2knE",
      "include_colab_link": true
    },
    "kernelspec": {
      "name": "python3",
      "display_name": "Python 3"
    },
    "language_info": {
      "name": "python"
    }
  },
  "cells": [
    {
      "cell_type": "markdown",
      "metadata": {
        "id": "view-in-github",
        "colab_type": "text"
      },
      "source": [
        "<a href=\"https://colab.research.google.com/github/aysenurerdem06/hu-bby162-2024/blob/main/Untitled3.ipynb\" target=\"_parent\"><img src=\"https://colab.research.google.com/assets/colab-badge.svg\" alt=\"Open In Colab\"/></a>"
      ]
    },
    {
      "cell_type": "code",
      "source": [
        "acıkVeri = [\"Açık Bilim\", \"Açık Erişim\", \"Açık Veri\", \"Açık Eğitim\", \"Açık Kaynak\"]\n",
        "print(acıkVeri[2])"
      ],
      "metadata": {
        "colab": {
          "base_uri": "https://localhost:8080/"
        },
        "id": "dKKWzq-MNAJq",
        "outputId": "e296f99f-b447-4806-9bad-2147f3ec9a02"
      },
      "execution_count": null,
      "outputs": [
        {
          "output_type": "stream",
          "name": "stdout",
          "text": [
            "Açık Veri\n"
          ]
        }
      ]
    },
    {
      "cell_type": "code",
      "execution_count": null,
      "metadata": {
        "colab": {
          "base_uri": "https://localhost:8080/"
        },
        "id": "wDEVNoT1M69G",
        "outputId": "04991554-24bf-450f-c62e-5809ca7790cd"
      },
      "outputs": [
        {
          "output_type": "stream",
          "name": "stdout",
          "text": [
            "Açık Eğitim Açık Kaynak\n"
          ]
        }
      ],
      "source": [
        "acıkliste = [\"Açık Bilim\", \"Açık Erişim\", \"Açık Veri\", \"Açık Eğitim\", \"Açık Kaynak\"]\n",
        "print(acıkliste[3], acıkliste[4])\n"
      ]
    },
    {
      "cell_type": "code",
      "source": [
        "bilgiBilim = [\"Bilgi\", \"Bilgi Kuramı\", \"Epistemoloji\"]\n",
        "print(bilgiBilim)\n",
        "\n",
        "bilgiBilim.append(\"Bilgi Felsefesi\")\n",
        "bilgiBilim.append(\"Kütüphane Bilgisi\")\n",
        "print(bilgiBilim)\n",
        "\n",
        "bilgiBilim[2] = \"Kütüphane\"\n",
        "print(bilgiBilim)"
      ],
      "metadata": {
        "colab": {
          "base_uri": "https://localhost:8080/"
        },
        "id": "AfHW9VprPr41",
        "outputId": "5567bd92-f948-42b3-9cf2-efab439a70c5"
      },
      "execution_count": null,
      "outputs": [
        {
          "output_type": "stream",
          "name": "stdout",
          "text": [
            "['Bilgi', 'Bilgi Kuramı', 'Epistemoloji']\n",
            "['Bilgi', 'Bilgi Kuramı', 'Epistemoloji', 'Bilgi Felsefesi', 'Kütüphane Bilgisi']\n",
            "['Bilgi', 'Bilgi Kuramı', 'Kütüphane', 'Bilgi Felsefesi', 'Kütüphane Bilgisi']\n"
          ]
        }
      ]
    },
    {
      "cell_type": "code",
      "source": [
        "bilgiBilim = [\"Bilgi\", \"Bilgi Kuramı\", \"Epistemoloji\"]\n",
        "print(bilgiBilim)\n",
        "\n",
        "bilgiBilim.append(\"Bilgi Felsefesi\")\n",
        "bilgiBilim.append(\"Kütüphane Bilgisi\")\n",
        "print(bilgiBilim)\n",
        "\n",
        "bilgiBilim[2] = \"Kütüphane\"\n",
        "print(bilgiBilim)"
      ],
      "metadata": {
        "id": "oPpLOoFKSeMX"
      },
      "execution_count": null,
      "outputs": []
    },
    {
      "cell_type": "code",
      "source": [
        "bilgiBilim = [\"Bilgi\", \"Bilgi Kuramı\", \"Epistemoloji\"]\n",
        "print(bilgiBilim)\n",
        "\n",
        "bilgiBilim[:1]\n",
        "print(bilgiBilim)\n",
        "\n",
        "bilgiBilim[:] = []\n",
        "print(bilgiBilim)"
      ],
      "metadata": {
        "colab": {
          "base_uri": "https://localhost:8080/"
        },
        "id": "5gJWf42DUBmy",
        "outputId": "b07b99fe-382f-49e0-f13b-ca473d988ca8"
      },
      "execution_count": null,
      "outputs": [
        {
          "output_type": "stream",
          "name": "stdout",
          "text": [
            "['Bilgi', 'Bilgi Kuramı', 'Epistemoloji']\n",
            "['Bilgi', 'Bilgi Kuramı', 'Epistemoloji']\n",
            "[]\n"
          ]
        }
      ]
    },
    {
      "cell_type": "code",
      "source": [
        "konuBasliklari = (\n",
        "    \"Tarım ve Tarım Bilimleri\",\n",
        "    \"Mimarlık ve Şehir Planlama\",\n",
        "    \"Sanat ve Sanat Tarihi\",\n",
        "    \"İşletme ve Ekonomi\",\n",
        "    \"Eğitim ve Eğitim Bilimleri\",\n",
        "    \"Mühendislik ve Teknoloji\",\n",
        "    \"Tarih ve Arkeoloji\",\n",
        "    \"Genel ve Uygulamalı Bilimler\",\n",
        "    \"Dilbilim ve Filoloji\",\n",
        "    \"Tıp ve Sağlık Bilimleri\",\n",
        "    \"Felsefe ve Din\",\n",
        "    \"Hukuk ve Adalet\",\n",
        "    \"Sosyal Bilimler\",\n",
        "    \"Coğrafya ve Coğrafya Bilimleri\",\n",
        "    \"Edebiyat ve Edebiyat Bilimi\",\n",
        "    \"Askeri Bilimler\",\n",
        "    \"Fiziksel ve Doğal Bilimler\",\n",
        "    \"Psikoloji ve Psikiyatri\",\n",
        "    \"Spor ve Rekreasyon\",\n",
        "    \"Medya ve İletişim\"\n",
        ")\n",
        "print(konuBasliklari)\n",
        "\n",
        "print(\"Tarım ve Tarım Bilimleri\",)"
      ],
      "metadata": {
        "colab": {
          "base_uri": "https://localhost:8080/"
        },
        "id": "3i_12FVWXdPy",
        "outputId": "d7cd7d6e-d9c3-4bcb-8636-9150c3796338"
      },
      "execution_count": null,
      "outputs": [
        {
          "output_type": "stream",
          "name": "stdout",
          "text": [
            "('Tarım ve Tarım Bilimleri', 'Mimarlık ve Şehir Planlama', 'Sanat ve Sanat Tarihi', 'İşletme ve Ekonomi', 'Eğitim ve Eğitim Bilimleri', 'Mühendislik ve Teknoloji', 'Tarih ve Arkeoloji', 'Genel ve Uygulamalı Bilimler', 'Dilbilim ve Filoloji', 'Tıp ve Sağlık Bilimleri', 'Felsefe ve Din', 'Hukuk ve Adalet', 'Sosyal Bilimler', 'Coğrafya ve Coğrafya Bilimleri', 'Edebiyat ve Edebiyat Bilimi', 'Askeri Bilimler', 'Fiziksel ve Doğal Bilimler', 'Psikoloji ve Psikiyatri', 'Spor ve Rekreasyon', 'Medya ve İletişim')\n",
            "Tarım ve Tarım Bilimleri\n"
          ]
        }
      ]
    },
    {
      "cell_type": "code",
      "source": [
        "sozluk = {\"Kalp\": \"Organ\", \"Kan\": \"Sıvı\", \"Bakteri\": \"Tek HÜcreli Mikroorganizma\", \"Tıp\": \"Bilim\", \"Steteskop\": \"Tıbbi cihaz\"}\n",
        "print(sozluk)\n",
        "\n",
        "sozluk[\"mikrop\"] = \"mikroskobik organizma\"\n",
        "print(sozluk)\n",
        "\n",
        "del sozluk [\"mikrop\"]\n",
        "print(sozluk)"
      ],
      "metadata": {
        "colab": {
          "base_uri": "https://localhost:8080/"
        },
        "id": "CSZN2jCpZhDb",
        "outputId": "97f544de-cb61-476d-8dfd-3e3df29b2757"
      },
      "execution_count": null,
      "outputs": [
        {
          "output_type": "stream",
          "name": "stdout",
          "text": [
            "{'Kalp': 'Organ', 'Kan': 'Sıvı', 'Bakteri': 'Tek HÜcreli Mikroorganizma', 'Tıp': 'Bilim', 'Steteskop': 'Tıbbi cihaz'}\n",
            "{'Kalp': 'Organ', 'Kan': 'Sıvı', 'Bakteri': 'Tek HÜcreli Mikroorganizma', 'Tıp': 'Bilim', 'Steteskop': 'Tıbbi cihaz', 'mikrop': 'mikroskobik organizma'}\n",
            "{'Kalp': 'Organ', 'Kan': 'Sıvı', 'Bakteri': 'Tek HÜcreli Mikroorganizma', 'Tıp': 'Bilim', 'Steteskop': 'Tıbbi cihaz'}\n"
          ]
        }
      ]
    },
    {
      "cell_type": "code",
      "source": [
        "yeniSozluk = {\"Kornea\": \"saydam yapı\", \"sklera\": \" sert ve dayanıklı doku tabakas\", \"retina\": \"Göz anatomisinin en iç tabakası\"}\n",
        "print(yeniSozluk)\n",
        "\n",
        "print(yeniSozluk.values())\n",
        "print(yeniSozluk.keys())"
      ],
      "metadata": {
        "colab": {
          "base_uri": "https://localhost:8080/"
        },
        "id": "qvMJfGzqkw7X",
        "outputId": "6462a7b9-97d2-4a3c-fc87-ff256350b2ae"
      },
      "execution_count": null,
      "outputs": [
        {
          "output_type": "stream",
          "name": "stdout",
          "text": [
            "{'Kornea': 'saydam yapı', 'sklera': ' sert ve dayanıklı doku tabakas', 'retina': 'Göz anatomisinin en iç tabakası'}\n",
            "dict_values(['saydam yapı', ' sert ve dayanıklı doku tabakas', 'Göz anatomisinin en iç tabakası'])\n",
            "dict_keys(['Kornea', 'sklera', 'retina'])\n"
          ]
        }
      ]
    },
    {
      "cell_type": "code",
      "source": [
        "yeniListe = [\"tuz\": \"sodyum klorür\", \"sirke\": \"asetik asit\", \"şeker\": \"sakaroz\", \"su\": \"didihdrojen monooksit\", \"zaç yağı\": \"sülfirik asit\", \"kezzap\": \"nitrik asit\", \"sirke asidi\": \"asetik asit\", \"sud kostik\": \"sodyum hidroksit\", \"kireç taşı\": \"kalsiyum karbınat\", \"sönmüş kireç\": \"kalsiyum hidroksit\"]\n",
        "print(\"potas kostik\" in yeniListe)\n",
        "\n",
        "yeniSozluk = {\"tuz\": \"sodyum klorür\", \"sirke\": \"asetik asit\", \"şeker\": \"sakaroz\", \"su\": \"didihdrojen monooksit\", \"zaç yağı\": \"sülfirik asit\", \"kezzap\": \"nitrik asit\", \"sirke asidi\": \"asetik asit\", \"sud kostik\": \"sodyum hidroksit\", \"kireç taşı\": \"kalsiyum karbınat\", \"sönmüş kireç\": \"kalsiyum hidroksit\"}\n",
        "print(\"koleksiyon\" in yeniSozluk.keys())"
      ],
      "metadata": {
        "colab": {
          "base_uri": "https://localhost:8080/"
        },
        "id": "cAtSyyulmGyA",
        "outputId": "54bb27d2-5a73-40aa-e73d-6358074ecbad"
      },
      "execution_count": null,
      "outputs": [
        {
          "output_type": "stream",
          "name": "stdout",
          "text": [
            "True\n",
            "False\n"
          ]
        }
      ]
    }
  ]
}