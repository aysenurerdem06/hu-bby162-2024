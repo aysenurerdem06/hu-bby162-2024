{
  "nbformat": 4,
  "nbformat_minor": 0,
  "metadata": {
    "colab": {
      "provenance": [],
      "include_colab_link": true
    },
    "kernelspec": {
      "name": "python3",
      "display_name": "Python 3"
    },
    "language_info": {
      "name": "python"
    }
  },
  "cells": [
    {
      "cell_type": "markdown",
      "metadata": {
        "id": "view-in-github",
        "colab_type": "text"
      },
      "source": [
        "<a href=\"https://colab.research.google.com/github/aysenurerdem06/hu-bby162-2024/blob/main/CanliSinav01.ipynb\" target=\"_parent\"><img src=\"https://colab.research.google.com/assets/colab-badge.svg\" alt=\"Open In Colab\"/></a>"
      ]
    },
    {
      "cell_type": "markdown",
      "source": [
        "**Canlı Sınav 01'e hoşgeldiniz!**"
      ],
      "metadata": {
        "id": "ItmuxWgBbkC1"
      }
    },
    {
      "cell_type": "code",
      "source": [],
      "metadata": {
        "id": "fqr002yOK33C"
      },
      "execution_count": null,
      "outputs": []
    },
    {
      "cell_type": "markdown",
      "source": [
        "Canlı sınav, bilgisayar laboratuvarında bilgisayar başında yapılan ve teslim edilen projeyi ifade etmektedir. Canlı sınavda yazmış olduğunuz kodlar sizin sorumluluğunuzdadır ve gerekirse hangi kodu neden yazdığınızı açık bir şekilde anlatabilmeniz gerekmektedir. Canlı sınav sırasında İnternet üzerindeki kaynaklar kullanılabilir ancak başka bir kişiden destek alınamaz.\n",
        "\n",
        "Canlı sınavın teslim şekli önceki proje çalışmasında olduğu gibidir. \"Canlı Sınav 01\" adlı Colab not defterinin bir kopyasını çıkarmalı, size ait olan bu kopya üzerinde soruları cevaplamalı, GitHub'daki ders deponuza size ait kopyayı yüklemeli ve not defterinin adresini metin alanına yazarak göndermelisiniz.\n",
        "\n",
        "Canlı sınavın doğru şekilde tamamlanması da sınavın önemli bir parçasıdır. Sınav için gönderdiğiniz adresi kontrol ediniz ve doğru dosyayı depoya yerleştirdiği bizden emin olunuz. Teslim sürecinde yapılan hatalar sınavdan 0 puan almanıza yol açabilir!\n",
        "\n",
        "Önemli Not: Soruları cecaplarken sadece şu ana kadar öğrendiğiniz kod yapılarını kullanmanız gerekmektedir!!!"
      ],
      "metadata": {
        "id": "KGjdjR5RbTgH"
      }
    },
    {
      "cell_type": "markdown",
      "source": [
        "**----- Sorular -----**"
      ],
      "metadata": {
        "id": "zBvdh4s8cOqM"
      }
    },
    {
      "cell_type": "markdown",
      "source": [
        "**Soru 1:** Bir giriş sisteminde kullanıcı adı olarak eposta ya da telefon numarası kullanılabilmektedir. Şifre ise tektir. Klavyeden doğru kullanıcı adı ve şifre girildiğinde ekrana \" Sisteme giriş yaptınız\" , yanlış kullanıcı adı girildiğinde \"kullanıcı adı hatalı\" , yanlış şifre girildiğinde \"şifre hatalı\" bilgisi yazdırılmalıdır. Kullanıcı adı hatalı ise şifre sorma adımına geçilmemelidir."
      ],
      "metadata": {
        "id": "ma0FVqgQiLBe"
      }
    },
    {
      "cell_type": "code",
      "source": [
        "def login():\n",
        "  username = input(\"Kullanıcı adı (e-posta veya telefon numarası): \")\n",
        "\n",
        "  # Check if username is valid (e-posta or phone number)\n",
        "  if \"@\" in username or username.isdigit():\n",
        "    password = input(\"Şifre: \")\n",
        "\n",
        "    # Check if password is correct\n",
        "    if password == \"correct_password\":\n",
        "      print(\"Sisteme giriş yaptınız.\")\n",
        "    else:\n",
        "      print(\"Şifre hatalı.\")\n",
        "  else:\n",
        "    print(\"Kullanıcı adı hatalı.\")\n",
        "\n",
        "login()"
      ],
      "metadata": {
        "id": "Fj7wkLMcjp_7"
      },
      "execution_count": null,
      "outputs": []
    },
    {
      "cell_type": "markdown",
      "source": [
        "**Soru 2:** Klavyeden girilen bir insan ismindeki harf sayısına göre ekrana bir cümle yazdırınız. Örneğin 4 harfli bir isim girildiğinde ekrana \"Dört dörtlük bir isim\", 6 harfli bir isim girildiğinde ekrana \"Altıncı hissin kuvvetli\" yazılabilmelidir. Klavyeden üçten az ya da yediden çok harfe sahip bir isim girildiğinde ise ekrana \"isminiz sisteme uygun değildir\" mesajı yazdırılmalıdır."
      ],
      "metadata": {
        "id": "uZDiXJARgK4o"
      }
    },
    {
      "cell_type": "code",
      "source": [
        "def print_name_message(name):\n",
        "  length = len(name)\n",
        "\n",
        "  if length < 3 or length > 7:\n",
        "    print(\"İsminiz sisteme uygun değildir.\")\n",
        "  elif length == 4:\n",
        "    print(\"Dört dörtlük bir isim.\")\n",
        "  elif length == 6:\n",
        "    print(\"Altıncı hissin kuvvetli.\")\n",
        "  else:\n",
        "    print(\"İsminiz için özel bir mesajımız yok.\")\n",
        "\n",
        "name = input(\"İsminizi girin: \")\n",
        "print_name_message(name)"
      ],
      "metadata": {
        "id": "cKddMdZJPtTW"
      },
      "execution_count": null,
      "outputs": []
    },
    {
      "cell_type": "markdown",
      "source": [
        "**Soru 3:** 5 öğenin yer aldığı bir kelime tahmin oyunu oluşturun. Kelimeler bir liste içinde yer almalıdır. Klavyeden girilen kelime liste içinde yer alan kelimelerden biri ise ekrana \"bravo oyunu kazandınız\", aksi halde ise ekrana \"üzgünüm oyunu kaybettiniz\" mesajı gelmelidir."
      ],
      "metadata": {
        "id": "HnIqbjcCeNEV"
      }
    },
    {
      "cell_type": "code",
      "source": [
        "def word_guessing_game():\n",
        "  words = [\"elma\", \"armut\", \"portakal\", \"muz\", \"kiraz\"]\n",
        "  guess = input(\"Bir kelime girin: \")\n",
        "\n",
        "  if guess in words:\n",
        "    print(\"Bravo, oyunu kazandınız!\")\n",
        "  else:\n",
        "    print(\"Üzgünüm, oyunu kaybettiniz.\")\n",
        "\n",
        "word_guessing_game()\n",
        "\n"
      ],
      "metadata": {
        "id": "SjzG5g3ffTyv"
      },
      "execution_count": null,
      "outputs": []
    },
    {
      "cell_type": "markdown",
      "source": [
        "**Soru 4:** 5 öğenin yer aldığı bir sözlük oluşturun. Bu sözlükte 5 kelime ve bu 5 kelimenin anlamları yer almalıdır. Klavyeden girilen anahtar (key) eğer sözlükte varsa kelimenin anlamı ekrana yazdırılmalıdır. Eğer anahtar sözlükte yoksa sözlükte aranan kelimenin olmadığı bilgisi ekrana yazdırılmalıdır."
      ],
      "metadata": {
        "id": "p49cZFjJcXoS"
      }
    },
    {
      "cell_type": "code",
      "execution_count": 1,
      "metadata": {
        "id": "3whYCDz3a8QZ",
        "colab": {
          "base_uri": "https://localhost:8080/"
        },
        "outputId": "e72d234e-53d1-4b50-a263-66c5c720024b"
      },
      "outputs": [
        {
          "output_type": "stream",
          "name": "stdout",
          "text": [
            "Bir kelime girin: muz\n",
            "muz kelimesinin anlamı: bir meyve\n"
          ]
        }
      ],
      "source": [
        "#Soru 4 bu bölümde kodlanmalıdır\n",
        "\n",
        "\n",
        "def dictionary_lookup():\n",
        "  dictionary = {\n",
        "    \"elma\": \"bir meyve\",\n",
        "    \"armut\": \"bir meyve\",\n",
        "    \"portakal\": \"bir meyve\",\n",
        "    \"muz\": \"bir meyve\",\n",
        "    \"kiraz\": \"bir meyve\"\n",
        "  }\n",
        "\n",
        "  key = input(\"Bir kelime girin: \")\n",
        "\n",
        "  if key in dictionary:\n",
        "    print(f\"{key} kelimesinin anlamı: {dictionary[key]}\")\n",
        "  else:\n",
        "    print(f\"{key} kelimesi sözlükte bulunamadı.\")\n",
        "\n",
        "dictionary_lookup()"
      ]
    }
  ]
}