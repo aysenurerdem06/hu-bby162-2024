{
  "nbformat": 4,
  "nbformat_minor": 0,
  "metadata": {
    "colab": {
      "provenance": [],
      "include_colab_link": true
    },
    "kernelspec": {
      "name": "python3",
      "display_name": "Python 3"
    },
    "language_info": {
      "name": "python"
    }
  },
  "cells": [
    {
      "cell_type": "markdown",
      "metadata": {
        "id": "view-in-github",
        "colab_type": "text"
      },
      "source": [
        "<a href=\"https://colab.research.google.com/github/aysenurerdem06/hu-bby162-2024/blob/main/FinalSinavi.ipynb\" target=\"_parent\"><img src=\"https://colab.research.google.com/assets/colab-badge.svg\" alt=\"Open In Colab\"/></a>"
      ]
    },
    {
      "cell_type": "markdown",
      "source": [
        "**Final Sınavına hoşgeldiniz!**"
      ],
      "metadata": {
        "id": "ItmuxWgBbkC1"
      }
    },
    {
      "cell_type": "markdown",
      "source": [
        "Canlı final sınavı, bilgisayar laboratuvarında bilgisayar başında yapılan ve teslim edilen sınavı ifade etmektedir. Canlı final sınavında yazmış olduğunuz kodlar sizin sorumluluğunuzdadır ve gerekirse hangi kodu neden yazdığınızı açık bir şekilde anlatabilmeniz gerekmektedir. Canlı final sınavı sırasında İnternet üzerindeki kaynaklar kullanılabilir ancak başka bir kişiden destek alınamaz.\n",
        "\n",
        "Canlı final sınavının teslim şekli önceki sınav ve projelerin teslim şekli ile aynıdır. \"Final Sınavı\" adlı Colab not defterinin bir kopyasını çıkarmalı, size ait olan bu kopya üzerinde soruları cevaplamalı, GitHub'daki ders deponuza size ait kopyayı yüklemeli ve not defterinin adresini metin alanına yazarak göndermelisiniz.\n",
        "\n",
        "Canlı final sınavının doğru şekilde tamamlanması da sınavın önemli bir parçasıdır. Sınav için gönderdiğiniz adresi kontrol ediniz ve doğru dosyayı depoya yerleştirdiği bizden emin olunuz. Teslim sürecinde yapılan hatalar sınavdan 0 puan almanıza yol açabilir!\n",
        "\n",
        "**Sınav süresi 60 dakikadır!**\n",
        "\n",
        "Önemli Not: Soruları cecaplarken sadece şu ana kadar öğrendiğiniz kod yapılarını kullanmanız gerekmektedir!!!"
      ],
      "metadata": {
        "id": "KGjdjR5RbTgH"
      }
    },
    {
      "cell_type": "markdown",
      "source": [
        "**----- Sorular -----**"
      ],
      "metadata": {
        "id": "zBvdh4s8cOqM"
      }
    },
    {
      "cell_type": "markdown",
      "source": [
        "**Soru 1:** Kod bölümünde yer alan listeyi ekrana aşağıda gösterildiği şekilde \"for\" döngüsü kullanarak yazdırın. Her kelimenin başındaki numara otomatik olarak verilmelidir. (5 Puan)\n",
        "\n",
        "1.   Açık Erişim\n",
        "2.   Açık Bilim\n",
        "3.   Açık Veri\n",
        "4.   Açık Eğitim\n",
        "5.   Açık Kültür"
      ],
      "metadata": {
        "id": "ma0FVqgQiLBe"
      }
    },
    {
      "cell_type": "code",
      "source": [
        "# Listemizi tanımlayalım\n",
        "kelimeler = [\"Açık Erişim\", \"Açık Bilim\", \"Açık Veri\", \"Açık Eğitim\", \"Açık Kültür\"]\n",
        "\n",
        "# For döngüsü kullanarak her bir kelimeyi numaralandırarak yazdırma\n",
        "for i, kelime in enumerate(kelimeler, 1):\n",
        "    print(f\"{i}.{kelime}\")\n"
      ],
      "metadata": {
        "id": "Fj7wkLMcjp_7",
        "colab": {
          "base_uri": "https://localhost:8080/"
        },
        "outputId": "2a3fafdf-07b9-4e49-90b3-4c23901d6208"
      },
      "execution_count": 10,
      "outputs": [
        {
          "output_type": "stream",
          "name": "stdout",
          "text": [
            "1.Açık Erişim\n",
            "2.Açık Bilim\n",
            "3.Açık Veri\n",
            "4.Açık Eğitim\n",
            "5.Açık Kültür\n"
          ]
        }
      ]
    },
    {
      "cell_type": "markdown",
      "source": [
        "**Soru 2:** Kod bölümünde yer alan boş sözlüğe klavyeden yeni veri ekleyecek kodu yazınız. Yeni veri hem anahtarı (key) hem de anahtara karşılık gelecek değerli (value) içermelidir. Veri girişi yapıldıktan sonra sözlüğün güncel hali de ekrana yazıdırılmalıdır. (5 Puan)"
      ],
      "metadata": {
        "id": "uZDiXJARgK4o"
      }
    },
    {
      "cell_type": "code",
      "source": [
        "# Boş bir sözlük oluştur\n",
        "sozluk = {}\n",
        "\n",
        "# Klavyeden veri girişi al\n",
        "anahtar = input(\"Yeni anahtar giriniz: \")\n",
        "deger = input(\"Yeni değer giriniz: \")\n",
        "\n",
        "# Sözlüğe yeni veriyi ekle\n",
        "sozluk[anahtar] = deger\n",
        "\n",
        "# Güncellenmiş sözlüğü ekrana yazdır\n",
        "print(\"Güncellenmiş Sözlük:\")\n",
        "print(sozluk)\n",
        "\n"
      ],
      "metadata": {
        "id": "no7Zd1ZCh5U3"
      },
      "execution_count": null,
      "outputs": []
    },
    {
      "cell_type": "markdown",
      "source": [
        "**Soru 3:** Herhangi bir metin dosyasında (ör: [veri.txt](https://drive.google.com/file/d/1WVCEET3G3ishvIR-V6lCav7jBgaZLT-o/view?usp=sharing)) satır satır yer alan verileri okuyup ekrana satır satır yazdıracak kodu yazınız. (10 Puan)"
      ],
      "metadata": {
        "id": "HnIqbjcCeNEV"
      }
    },
    {
      "cell_type": "code",
      "source": [
        "def main():\n",
        "     dosyaAdı = \"veri.txt\"\n",
        "     with open(dosyaAdı,\"r\") as file:\n",
        "         for line in file:\n",
        "             print(line,end=\"\")\n",
        "main()"
      ],
      "metadata": {
        "id": "SjzG5g3ffTyv"
      },
      "execution_count": null,
      "outputs": []
    },
    {
      "cell_type": "markdown",
      "source": [
        "**Soru 4:** Verilerin bir TXT dosyasında depolanabileceği basit bir adres defteri oluşturunuz. Adres defterindeki öğeler Ad-Soyad ve e-Posta olacaktır. Bu adres desteri uygulamasında bir menü yapısı (uygulama içinde fonksiyolar) olmalıdır. 1. seçenek adres defterindeki girişleri göstermeli, 2. seçenek adres defterine yeni veri eklemeli, 3. seçenek ise uygulamayı sonlandırmalıdır. (20 Puan)"
      ],
      "metadata": {
        "id": "p49cZFjJcXoS"
      }
    },
    {
      "cell_type": "code",
      "execution_count": null,
      "metadata": {
        "id": "3whYCDz3a8QZ"
      },
      "outputs": [],
      "source": [
        "def txtOku(dosyaAdı):\n",
        "    file = open(dosyaAdı, \"r\")\n",
        "    for line in file:\n",
        "        print(line, end='\\n')\n",
        "    file.close()\n",
        "\n",
        "\n",
        "def adresEkle(ad, soyad, eposta, dosyaAdı):\n",
        "    veri = format(f\"{ad} {soyad} e-Posta: {eposta}\")\n",
        "    file = open(dosyaAdı, \"a\")\n",
        "    file.write(veri)\n",
        "    file.close()\n",
        "\n",
        "\n",
        "def main():\n",
        "    dosyaADı = \"veri.txt\"\n",
        "    file = open(dosyaADı, \"w\")\n",
        "    file.write(\"\")\n",
        "    file.close()\n",
        "    while True:\n",
        "        print(\"Yapmak istediğiniz işlemi seçiniz:\\n1-Adresleri görüntüle\\n2-Deftere yeni adres ekle\\n3-Çıkış\")\n",
        "        x = int(input())\n",
        "\n",
        "        if x == 1:\n",
        "            txtOku(dosyaADı)\n",
        "        if x == 2:\n",
        "            ad = input(\"Kullanıcı adı:\")\n",
        "            soyad = input(\"kullanıcı soyadı:\")\n",
        "            e_posta = input(\"kullanıcı e-Posta:\")\n",
        "            adresEkle(ad, soyad, e_posta, dosyaADı)\n",
        "        if x == 3:\n",
        "            print(\"Çıkış Yapılıyor..\")\n",
        "            break\n",
        "\n",
        "main()\n",
        "\n"
      ]
    }
  ]
}